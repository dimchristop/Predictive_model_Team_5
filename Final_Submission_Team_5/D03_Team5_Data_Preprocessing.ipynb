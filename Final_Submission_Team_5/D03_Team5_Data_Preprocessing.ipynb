{
 "cells": [
  {
   "cell_type": "markdown",
   "metadata": {},
   "source": [
    "# D05_Team5_Machine_Learning"
   ]
  },
  {
   "cell_type": "code",
   "execution_count": 2,
   "metadata": {},
   "outputs": [],
   "source": [
    "# Import required libraries\n",
    "import numpy as np\n",
    "import pandas as pd \n",
    "\n",
    "import matplotlib.pyplot as plt \n",
    "import seaborn as sns \n",
    "\n",
    "from scipy.stats import norm\n",
    "\n",
    "import warnings\n",
    "warnings.filterwarnings('ignore')\n",
    "\n",
    "%matplotlib inline"
   ]
  },
  {
   "cell_type": "code",
   "execution_count": 3,
   "metadata": {},
   "outputs": [
    {
     "name": "stdout",
     "output_type": "stream",
     "text": [
      "    mpg  cylinders  displayments  horsepower  weight  acceleration  \\\n",
      "0  18.0          8         307.0       130.0    3504          12.0   \n",
      "1  15.0          8         350.0       165.0    3693          11.5   \n",
      "2  18.0          8         318.0       150.0    3436          11.0   \n",
      "3  16.0          8         304.0       150.0    3433          12.0   \n",
      "4  17.0          8         302.0       140.0    3449          10.5   \n",
      "\n",
      "   model year  origin                   car name  Unnamed: 9  Unnamed: 10  \\\n",
      "0          70       1  chevrolet chevelle malibu         NaN          NaN   \n",
      "1          70       1          buick skylark 320         NaN          NaN   \n",
      "2          70       1         plymouth satellite         NaN          NaN   \n",
      "3          70       1              amc rebel sst         NaN          NaN   \n",
      "4          70       1                ford torino         NaN          NaN   \n",
      "\n",
      "   Unnamed: 11 Unnamed: 12  \n",
      "0          NaN         NaN  \n",
      "1          NaN         NaN  \n",
      "2          NaN         NaN  \n",
      "3          NaN         NaN  \n",
      "4          NaN         NaN  \n"
     ]
    }
   ],
   "source": [
    "# Read data file\n",
    "df = pd.read_excel('mpg.data.xlsx')\n",
    "print(df.head())"
   ]
  },
  {
   "cell_type": "markdown",
   "metadata": {},
   "source": [
    "# Handling missing values"
   ]
  },
  {
   "cell_type": "code",
   "execution_count": 4,
   "metadata": {},
   "outputs": [],
   "source": [
    "# Drop empty columns\n",
    "df = df.drop(columns=[col for col in df if col.startswith('Unnamed:')])"
   ]
  },
  {
   "cell_type": "code",
   "execution_count": 5,
   "metadata": {},
   "outputs": [
    {
     "name": "stdout",
     "output_type": "stream",
     "text": [
      "Attributes\tMissing values\n",
      "mpg             8\n",
      "cylinders       0\n",
      "displayments    0\n",
      "horsepower      6\n",
      "weight          0\n",
      "acceleration    0\n",
      "model year      0\n",
      "origin          0\n",
      "car name        0\n",
      "dtype: int64\n"
     ]
    }
   ],
   "source": [
    "# Check for missing values\n",
    "print('Attributes\\tMissing values')\n",
    "print(df.isna().sum())"
   ]
  },
  {
   "cell_type": "markdown",
   "metadata": {},
   "source": [
    "#### In order to fill the missing values, we calculated the correlation between columns"
   ]
  },
  {
   "cell_type": "code",
   "execution_count": 6,
   "metadata": {},
   "outputs": [
    {
     "data": {
      "text/html": [
       "<div>\n",
       "<style scoped>\n",
       "    .dataframe tbody tr th:only-of-type {\n",
       "        vertical-align: middle;\n",
       "    }\n",
       "\n",
       "    .dataframe tbody tr th {\n",
       "        vertical-align: top;\n",
       "    }\n",
       "\n",
       "    .dataframe thead th {\n",
       "        text-align: right;\n",
       "    }\n",
       "</style>\n",
       "<table border=\"1\" class=\"dataframe\">\n",
       "  <thead>\n",
       "    <tr style=\"text-align: right;\">\n",
       "      <th></th>\n",
       "      <th>mpg</th>\n",
       "      <th>cylinders</th>\n",
       "      <th>displayments</th>\n",
       "      <th>horsepower</th>\n",
       "      <th>weight</th>\n",
       "      <th>acceleration</th>\n",
       "      <th>model year</th>\n",
       "      <th>origin</th>\n",
       "    </tr>\n",
       "  </thead>\n",
       "  <tbody>\n",
       "    <tr>\n",
       "      <th>mpg</th>\n",
       "      <td>1.000000</td>\n",
       "      <td>-0.775396</td>\n",
       "      <td>-0.804203</td>\n",
       "      <td>-0.778427</td>\n",
       "      <td>-0.831741</td>\n",
       "      <td>0.420289</td>\n",
       "      <td>0.579267</td>\n",
       "      <td>0.563450</td>\n",
       "    </tr>\n",
       "    <tr>\n",
       "      <th>cylinders</th>\n",
       "      <td>-0.775396</td>\n",
       "      <td>1.000000</td>\n",
       "      <td>0.951787</td>\n",
       "      <td>0.844158</td>\n",
       "      <td>0.895220</td>\n",
       "      <td>-0.522452</td>\n",
       "      <td>-0.360762</td>\n",
       "      <td>-0.567478</td>\n",
       "    </tr>\n",
       "    <tr>\n",
       "      <th>displayments</th>\n",
       "      <td>-0.804203</td>\n",
       "      <td>0.951787</td>\n",
       "      <td>1.000000</td>\n",
       "      <td>0.898326</td>\n",
       "      <td>0.932475</td>\n",
       "      <td>-0.557984</td>\n",
       "      <td>-0.381714</td>\n",
       "      <td>-0.613056</td>\n",
       "    </tr>\n",
       "    <tr>\n",
       "      <th>horsepower</th>\n",
       "      <td>-0.778427</td>\n",
       "      <td>0.844158</td>\n",
       "      <td>0.898326</td>\n",
       "      <td>1.000000</td>\n",
       "      <td>0.866586</td>\n",
       "      <td>-0.697124</td>\n",
       "      <td>-0.424419</td>\n",
       "      <td>-0.460033</td>\n",
       "    </tr>\n",
       "    <tr>\n",
       "      <th>weight</th>\n",
       "      <td>-0.831741</td>\n",
       "      <td>0.895220</td>\n",
       "      <td>0.932475</td>\n",
       "      <td>0.866586</td>\n",
       "      <td>1.000000</td>\n",
       "      <td>-0.430086</td>\n",
       "      <td>-0.315389</td>\n",
       "      <td>-0.584109</td>\n",
       "    </tr>\n",
       "    <tr>\n",
       "      <th>acceleration</th>\n",
       "      <td>0.420289</td>\n",
       "      <td>-0.522452</td>\n",
       "      <td>-0.557984</td>\n",
       "      <td>-0.697124</td>\n",
       "      <td>-0.430086</td>\n",
       "      <td>1.000000</td>\n",
       "      <td>0.301992</td>\n",
       "      <td>0.218845</td>\n",
       "    </tr>\n",
       "    <tr>\n",
       "      <th>model year</th>\n",
       "      <td>0.579267</td>\n",
       "      <td>-0.360762</td>\n",
       "      <td>-0.381714</td>\n",
       "      <td>-0.424419</td>\n",
       "      <td>-0.315389</td>\n",
       "      <td>0.301992</td>\n",
       "      <td>1.000000</td>\n",
       "      <td>0.187656</td>\n",
       "    </tr>\n",
       "    <tr>\n",
       "      <th>origin</th>\n",
       "      <td>0.563450</td>\n",
       "      <td>-0.567478</td>\n",
       "      <td>-0.613056</td>\n",
       "      <td>-0.460033</td>\n",
       "      <td>-0.584109</td>\n",
       "      <td>0.218845</td>\n",
       "      <td>0.187656</td>\n",
       "      <td>1.000000</td>\n",
       "    </tr>\n",
       "  </tbody>\n",
       "</table>\n",
       "</div>"
      ],
      "text/plain": [
       "                   mpg  cylinders  displayments  horsepower    weight  \\\n",
       "mpg           1.000000  -0.775396     -0.804203   -0.778427 -0.831741   \n",
       "cylinders    -0.775396   1.000000      0.951787    0.844158  0.895220   \n",
       "displayments -0.804203   0.951787      1.000000    0.898326  0.932475   \n",
       "horsepower   -0.778427   0.844158      0.898326    1.000000  0.866586   \n",
       "weight       -0.831741   0.895220      0.932475    0.866586  1.000000   \n",
       "acceleration  0.420289  -0.522452     -0.557984   -0.697124 -0.430086   \n",
       "model year    0.579267  -0.360762     -0.381714   -0.424419 -0.315389   \n",
       "origin        0.563450  -0.567478     -0.613056   -0.460033 -0.584109   \n",
       "\n",
       "              acceleration  model year    origin  \n",
       "mpg               0.420289    0.579267  0.563450  \n",
       "cylinders        -0.522452   -0.360762 -0.567478  \n",
       "displayments     -0.557984   -0.381714 -0.613056  \n",
       "horsepower       -0.697124   -0.424419 -0.460033  \n",
       "weight           -0.430086   -0.315389 -0.584109  \n",
       "acceleration      1.000000    0.301992  0.218845  \n",
       "model year        0.301992    1.000000  0.187656  \n",
       "origin            0.218845    0.187656  1.000000  "
      ]
     },
     "execution_count": 6,
     "metadata": {},
     "output_type": "execute_result"
    }
   ],
   "source": [
    "df.corr(method='pearson', min_periods=1)"
   ]
  },
  {
   "cell_type": "code",
   "execution_count": 7,
   "metadata": {},
   "outputs": [
    {
     "name": "stdout",
     "output_type": "stream",
     "text": [
      "Rows before dropping missing \"mpg\" values: 406\n",
      "Remaining rows after dropping missing \"mpg\" values : 398\n"
     ]
    }
   ],
   "source": [
    "# The most effective approach was when we dropped rows with missing 'mpg' values\n",
    "\n",
    "print(f'Rows before dropping missing \"mpg\" values: {len(df)}')\n",
    "\n",
    "df = df[df['mpg'].notna()]\n",
    "\n",
    "print(f'Remaining rows after dropping missing \"mpg\" values : {len(df)}')"
   ]
  },
  {
   "cell_type": "markdown",
   "metadata": {},
   "source": [
    "Note: Observing correlation matrix we notice that 'horsepower' has high correlation with 'displayments', so we fill the missing values accordingly."
   ]
  },
  {
   "cell_type": "code",
   "execution_count": 8,
   "metadata": {},
   "outputs": [],
   "source": [
    "# Horsepower replacement \n",
    "\n",
    "def replace_na_correlated_values(df, col1, col2):\n",
    "    \"\"\" For missing values, calculate mean horsepower of cars with similar displacement \"\"\"\n",
    "    b=[]\n",
    "    for val in df[df[col1].isna()][col2]:\n",
    "       b.append(df[(df[col2] > val - df[col2].std())\n",
    "                & (df[col2] < val + df[col2].std())][col1].mean())\n",
    "    return(b)\n",
    "\n",
    "df.loc[df['horsepower'].isna(), 'horsepower'] = replace_na_correlated_values(df, 'horsepower', 'displayments')"
   ]
  },
  {
   "cell_type": "code",
   "execution_count": 9,
   "metadata": {},
   "outputs": [
    {
     "name": "stdout",
     "output_type": "stream",
     "text": [
      "Attributes\tMissing values\n"
     ]
    },
    {
     "data": {
      "text/plain": [
       "mpg             0\n",
       "cylinders       0\n",
       "displayments    0\n",
       "horsepower      0\n",
       "weight          0\n",
       "acceleration    0\n",
       "model year      0\n",
       "origin          0\n",
       "car name        0\n",
       "dtype: int64"
      ]
     },
     "execution_count": 9,
     "metadata": {},
     "output_type": "execute_result"
    }
   ],
   "source": [
    "# Making sure there are no missing values\n",
    "print('Attributes\\tMissing values')\n",
    "df.isna().sum()"
   ]
  },
  {
   "cell_type": "markdown",
   "metadata": {},
   "source": [
    "# Handling Outliers"
   ]
  },
  {
   "cell_type": "code",
   "execution_count": 10,
   "metadata": {},
   "outputs": [
    {
     "name": "stdout",
     "output_type": "stream",
     "text": [
      "mpg               11.50\n",
      "cylinders          4.00\n",
      "displayments     157.75\n",
      "horsepower        49.00\n",
      "weight          1384.25\n",
      "acceleration       3.35\n",
      "model year         6.00\n",
      "origin             1.00\n",
      "dtype: float64\n"
     ]
    }
   ],
   "source": [
    "# Perform IQR score technique to find outliers\n",
    "Q1 = df.quantile(0.25)\n",
    "Q3 = df.quantile(0.75)\n",
    "IQR = Q3 - Q1\n",
    "\n",
    "print(IQR)"
   ]
  },
  {
   "cell_type": "markdown",
   "metadata": {},
   "source": [
    "*Note 1: Checking on the kind of dataset we are facing (a dataset regarding cars), we concluded that even if it seems that there are some outliers, for our problem it does not seem like they should be excluded.*"
   ]
  },
  {
   "cell_type": "markdown",
   "metadata": {},
   "source": [
    "*Note 2: In addition, keeping outliers led to increasing model performance.*"
   ]
  },
  {
   "cell_type": "markdown",
   "metadata": {},
   "source": [
    "# Rename Columns"
   ]
  },
  {
   "cell_type": "code",
   "execution_count": 11,
   "metadata": {},
   "outputs": [],
   "source": [
    "## Rename Columns\n",
    "df = df.rename(columns={'displayments': 'Displacement'})\n",
    "df = df.rename(columns={'mpg': 'Mpg'})\n",
    "df = df.rename(columns={'cylinders': 'Cylinders'})\n",
    "df = df.rename(columns={'horsepower': 'Horsepower'})\n",
    "df = df.rename(columns={'weight': 'Weight'})\n",
    "df = df.rename(columns={'acceleration': 'Acceleration'})\n",
    "df = df.rename(columns={'model year': 'Model Year'})\n",
    "df = df.rename(columns={'origin': 'Origin'})\n",
    "df = df.rename(columns={'car name': 'Car Name'})"
   ]
  },
  {
   "cell_type": "code",
   "execution_count": 12,
   "metadata": {},
   "outputs": [],
   "source": [
    "# Due to the fact that 'car name' could not provide  much information to our model, \n",
    "# the company that manifactured each car was extracted as a new column.\n",
    " \n",
    "company = []\n",
    "\n",
    "for car in df['Car Name']:\n",
    "    car= car.split(\" \")\n",
    "    company.append(car[0])\n",
    "df['Company'] = company\n",
    "\n",
    "correct_names = {\n",
    "    'chevy': 'chevrolet', 'toyouta': 'toyota', 'maxda': 'mazda',\n",
    "    'chevroelt': 'chevrolet', 'vw': 'volkswagen', 'mercedes-benz': 'mercedes',\n",
    "    'vokswagen': 'volkswagen'\n",
    "}\n",
    "df['Company'].replace(correct_names, inplace=True)\n",
    "\n",
    "# At this point 'Car Name' has no value for us, so it is dropped from our dataframe.\n",
    "df=df.drop(columns=['Car Name'])"
   ]
  },
  {
   "cell_type": "markdown",
   "metadata": {},
   "source": [
    "# Encoding features"
   ]
  },
  {
   "cell_type": "code",
   "execution_count": 13,
   "metadata": {},
   "outputs": [],
   "source": [
    "# One-hot encode the two categorical features: 'Origin', 'Company'\n",
    "df = pd.get_dummies(df, columns=['Origin', 'Company'])"
   ]
  },
  {
   "cell_type": "markdown",
   "metadata": {},
   "source": [
    "# Transformation of our target variable"
   ]
  },
  {
   "cell_type": "code",
   "execution_count": 14,
   "metadata": {},
   "outputs": [
    {
     "data": {
      "image/png": "[encoded data removed]",
      "text/plain": [
       "<Figure size 576x432 with 1 Axes>"
      ]
     },
     "metadata": {},
     "output_type": "display_data"
    },
    {
     "name": "stdout",
     "output_type": "stream",
     "text": [
      "skewness 0.45706634399491913\n",
      "kurtosis -0.5107812652123154\n"
     ]
    }
   ],
   "source": [
    "# Distribution of our target value before transformation\n",
    "sns.set_style('darkgrid')\n",
    "plt.figure(figsize=(8,6))\n",
    "sns.distplot(df.Mpg, fit=norm)\n",
    "plt.title('Distribution of Mpg')\n",
    "plt.show()\n",
    "\n",
    "print(f'skewness {df.Mpg.skew()}')\n",
    "print(f'kurtosis {df.Mpg.kurtosis()}')"
   ]
  },
  {
   "cell_type": "code",
   "execution_count": 15,
   "metadata": {},
   "outputs": [],
   "source": [
    "# Transformation of our target value with log(1+Y) function\n",
    "df['Mpg'] = np.log1p(df['Mpg'])"
   ]
  },
  {
   "cell_type": "code",
   "execution_count": 16,
   "metadata": {},
   "outputs": [
    {
     "data": {
      "image/png": "[encoded data removed]",
      "text/plain": [
       "<Figure size 576x432 with 1 Axes>"
      ]
     },
     "metadata": {},
     "output_type": "display_data"
    },
    {
     "name": "stdout",
     "output_type": "stream",
     "text": [
      "skewness -0.10913831720100581\n",
      "kurtosis -0.8190698810879078\n"
     ]
    }
   ],
   "source": [
    "# Distribution of our target value after transformation\n",
    "sns.set_style('darkgrid')\n",
    "plt.figure(figsize=(8,6))\n",
    "sns.distplot(df.Mpg, fit=norm)\n",
    "plt.title('Distribution of Mpg')\n",
    "plt.show()\n",
    "\n",
    "print(f'skewness {df.Mpg.skew()}')\n",
    "print(f'kurtosis {df.Mpg.kurtosis()}')"
   ]
  },
  {
   "cell_type": "markdown",
   "metadata": {},
   "source": [
    "*Important Note: By using log(1+Y) instead of Y, we achieve better performance in our prediction model. This is due to the fact that we achieve the enhancement of distribution of the Mpg, more specifically we enhance the skewness of the distribution.*"
   ]
  },
  {
   "cell_type": "code",
   "execution_count": 17,
   "metadata": {},
   "outputs": [
    {
     "name": "stdout",
     "output_type": "stream",
     "text": [
      "Number of total columns: 40\n",
      "Number of useless columns: 18\n",
      "Number of remaining columns: 22\n"
     ]
    }
   ],
   "source": [
    "print(f'Number of total columns: {len(df.columns)}')\n",
    "\n",
    "# Check which of the encoded variables('Origin' and 'Company') can actually give information.\n",
    "# To achieve that we keep the encoded columns that have values at, at least 3% of total rows.\n",
    "\n",
    "useless_cols = [col for col in df.columns if df[col].nunique() == 2 \n",
    "                and ((df[col].value_counts()/len(df)) < 0.03).any(axis=None)]\n",
    "\n",
    "print(f'Number of useless columns: {len(useless_cols)}')\n",
    "\n",
    "df.drop(useless_cols, axis=1, inplace=True)\n",
    "\n",
    "print(f'Number of remaining columns: {len(df.columns)}')"
   ]
  },
  {
   "cell_type": "code",
   "execution_count": 19,
   "metadata": {},
   "outputs": [],
   "source": [
    "df.to_excel('mpg.preprocessed.xlsx', index=False)"
   ]
  }
 ],
 "metadata": {
  "celltoolbar": "Raw Cell Format",
  "kernelspec": {
   "display_name": "Python 3",
   "language": "python",
   "name": "python3"
  },
  "language_info": {
   "codemirror_mode": {
    "name": "ipython",
    "version": 3
   },
   "file_extension": ".py",
   "mimetype": "text/x-python",
   "name": "python",
   "nbconvert_exporter": "python",
   "pygments_lexer": "ipython3",
   "version": "3.7.1"
  }
 },
 "nbformat": 4,
 "nbformat_minor": 5
}
