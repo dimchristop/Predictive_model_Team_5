{
 "cells": [
  {
   "cell_type": "markdown",
   "metadata": {},
   "source": [
    "# D05_Team5_Machine_Learning"
   ]
  },
  {
   "cell_type": "code",
   "execution_count": 1,
   "metadata": {},
   "outputs": [],
   "source": [
    "## Import required libraries.\n",
    "import pandas as pd \n",
    "import numpy as np\n",
    "\n",
    "import seaborn as sns \n",
    "import matplotlib.pyplot as plt \n",
    "%matplotlib inline\n",
    "\n",
    "from scipy.stats import norm\n",
    "from sklearn.model_selection import train_test_split, cross_val_score\n",
    "from sklearn.linear_model import LinearRegression\n",
    "from sklearn.metrics import mean_squared_error, mean_absolute_error , r2_score\n",
    "from sklearn.ensemble import RandomForestRegressor, GradientBoostingRegressor, StackingRegressor\n",
    "from sklearn.preprocessing import StandardScaler\n",
    "from sklearn.svm import SVR\n",
    "\n",
    "import warnings\n",
    "warnings.filterwarnings('ignore')"
   ]
  },
  {
   "cell_type": "code",
   "execution_count": 11,
   "metadata": {},
   "outputs": [],
   "source": [
    "## Read data file.\n",
    "df = pd.read_excel('mpg.preprocessed.xlsx')\n",
    "## Drop empty columns \n",
    "df = df.drop(columns=[col for col in df if col.startswith('Unnamed:')])"
   ]
  },
  {
   "cell_type": "markdown",
   "metadata": {},
   "source": [
    "## Training & Testing sets"
   ]
  },
  {
   "cell_type": "code",
   "execution_count": 12,
   "metadata": {},
   "outputs": [],
   "source": [
    "X, y = df.drop(columns=[\"Mpg\"]),  df[\"Mpg\"]\n",
    "X_train, X_test, y_train, y_test = train_test_split(X, y, test_size=0.2, random_state=27)"
   ]
  },
  {
   "cell_type": "code",
   "execution_count": 13,
   "metadata": {},
   "outputs": [],
   "source": [
    "# Scaling features using standardization\n",
    "scaler = StandardScaler()\n",
    "X_train.iloc[:, 1:6]= scaler.fit_transform(X_train.iloc[:, 1:6])\n",
    "X_test.iloc[:, 1:6]= scaler.transform(X_test.iloc[:, 1:6])"
   ]
  },
  {
   "cell_type": "markdown",
   "metadata": {},
   "source": [
    "Note: 'Cylinders' and one hot encoded features were excluded from scaling. Not scaling 'Cylinders' column resulted in better performance of our model. Moreover, it is illogical to include one hot encoded features in scaling because the values are already scaled.\n"
   ]
  },
  {
   "cell_type": "markdown",
   "metadata": {},
   "source": [
    "## Predictive model"
   ]
  },
  {
   "cell_type": "code",
   "execution_count": 14,
   "metadata": {},
   "outputs": [
    {
     "name": "stdout",
     "output_type": "stream",
     "text": [
      "Mean Squared Error: 0.00035025658717183027\n",
      "Root Mean Squared Error: 0.01871514325811668\n",
      "Mean Absolute Error: 0.013649035624363528\n",
      "R2 score: 0.9506961838337318\n"
     ]
    }
   ],
   "source": [
    "# Stacking - Ensemble Method \n",
    "\n",
    "estimators = [ ('gb', GradientBoostingRegressor(n_estimators=300, random_state=0,learning_rate=0.02, max_depth=2)),\n",
    "              ('rf', RandomForestRegressor(n_estimators=260, random_state=42, max_depth=20, max_features=2)),\n",
    "              ('lr', LinearRegression()),\n",
    "              ('svr', SVR())\n",
    "             ]\n",
    "\n",
    "stack = StackingRegressor(estimators=estimators, final_estimator=LinearRegression())\n",
    "\n",
    "stack.fit(X_train, y_train)\n",
    "pred_test = stack.predict(X_test)\n",
    "\n",
    "print(f'Mean Squared Error: {mean_squared_error(y_test, pred_test)}')  \n",
    "print(f'Root Mean Squared Error: {np.sqrt(mean_squared_error(y_test, pred_test))}')\n",
    "print(f'Mean Absolute Error: {mean_absolute_error(y_test, pred_test)}')\n",
    "print(f'R2 score: {r2_score(y_test, pred_test)}')"
   ]
  },
  {
   "cell_type": "markdown",
   "metadata": {},
   "source": [
    "Initial evaluation of our model: An MSE of ~0.00591 and an R-squared score of ~0.95095, which are close to 0 and 1 respectively, is an indicator of a very efficient predictive model."
   ]
  },
  {
   "cell_type": "markdown",
   "metadata": {},
   "source": [
    "## Cross Validation"
   ]
  },
  {
   "cell_type": "code",
   "execution_count": 15,
   "metadata": {},
   "outputs": [
    {
     "name": "stdout",
     "output_type": "stream",
     "text": [
      "Stacking\n",
      "\n",
      "MSE for each fold: [0.00071266 0.00047684 0.0007364  0.00066324 0.0009351  0.00077121\n",
      " 0.00088177 0.00055448 0.00076413 0.00040071]\n",
      "\n",
      "Mean MSE: 0.00069\n",
      "\n",
      "Standard Deviation: 0.00016 \n"
     ]
    }
   ],
   "source": [
    "# Cross Validation - Stacking\n",
    "estimators = [ ('gb', GradientBoostingRegressor(n_estimators=300, random_state=0,learning_rate=0.02, max_depth=2)),\n",
    "              ('rf', RandomForestRegressor(n_estimators=260, random_state=42, max_depth=20, max_features=11)),\n",
    "              ('lr', LinearRegression()),\n",
    "              ('svr', SVR())\n",
    "             ]\n",
    "\n",
    "stack = StackingRegressor(estimators=estimators, final_estimator=LinearRegression())\n",
    "\n",
    "scores = cross_val_score(stack, X_train, y_train, cv=10, scoring='neg_mean_squared_error')\n",
    "print('Stacking\\n')\n",
    "print(f'MSE for each fold: {scores*(-1)}\\n')\n",
    "print(f'Mean MSE: {scores.mean()*(-1):.5f}\\n')\n",
    "print(\"Standard Deviation: {:.5f} \".format(scores.std()))"
   ]
  },
  {
   "cell_type": "markdown",
   "metadata": {},
   "source": [
    "Final evaluation of our model: Due to the fact that our sample is relatively small we performed 10-fold cross validation so that our initial model evaluation is not based on the specific split of the dataset. We calculated the mean MSE of the 10 MSE values of each fold, as well as the Standard Deviation in order to avoid some extreme case scenario of very poor performance."
   ]
  },
  {
   "cell_type": "markdown",
   "metadata": {},
   "source": [
    "## Visualization of actual versus predicted values"
   ]
  },
  {
   "cell_type": "code",
   "execution_count": 16,
   "metadata": {},
   "outputs": [
    {
     "data": {
      "image/png": "[encoded data removed]",
      "text/plain": [
       "<Figure size 576x576 with 1 Axes>"
      ]
     },
     "metadata": {
      "needs_background": "light"
     },
     "output_type": "display_data"
    }
   ],
   "source": [
    "plt.figure(figsize=(8,8))\n",
    "plt.scatter(np.expm1(y_test), np.expm1(pred_test), c='crimson')\n",
    "plt.xlabel(\"actual\")\n",
    "plt.ylabel(\"predicted\")\n",
    "plt.show()"
   ]
  },
  {
   "cell_type": "code",
   "execution_count": null,
   "metadata": {},
   "outputs": [],
   "source": []
  }
 ],
 "metadata": {
  "celltoolbar": "Raw Cell Format",
  "kernelspec": {
   "display_name": "Python 3",
   "language": "python",
   "name": "python3"
  },
  "language_info": {
   "codemirror_mode": {
    "name": "ipython",
    "version": 3
   },
   "file_extension": ".py",
   "mimetype": "text/x-python",
   "name": "python",
   "nbconvert_exporter": "python",
   "pygments_lexer": "ipython3",
   "version": "3.7.1"
  }
 },
 "nbformat": 4,
 "nbformat_minor": 5
}
